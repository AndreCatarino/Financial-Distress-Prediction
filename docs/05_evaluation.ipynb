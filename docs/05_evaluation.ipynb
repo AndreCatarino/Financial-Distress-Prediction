{
 "cells": [
  {
   "cell_type": "code",
   "execution_count": null,
   "metadata": {},
   "outputs": [],
   "source": [
    "# import accuracy_score report\n",
    "from sklearn.metrics import accuracy_score\n",
    "# import classification_report\n",
    "from sklearn.metrics import classification_report\n",
    "# import confusion_matrix\n",
    "from sklearn.metrics import confusion_matrix\n",
    "# import roc_auc_score\n",
    "from sklearn.metrics import roc_auc_score\n",
    "# import roc_curve\n",
    "from sklearn.metrics import roc_curve\n",
    "# import auc\n",
    "from sklearn.metrics import auc\n",
    "# import precision_score\n",
    "from sklearn.metrics import precision_score\n",
    "# import recall_score\n",
    "from sklearn.metrics import recall_score\n",
    "# import f1_score\n",
    "from sklearn.metrics import f1_score\n",
    "# import precision_recall_curve\n",
    "from sklearn.metrics import precision_recall_curve\n",
    "# import average_precision_score\n",
    "from sklearn.metrics import average_precision_score"
   ]
  },
  {
   "cell_type": "markdown",
   "metadata": {},
   "source": [
    "To Do"
   ]
  }
 ],
 "metadata": {
  "language_info": {
   "name": "python"
  }
 },
 "nbformat": 4,
 "nbformat_minor": 2
}
