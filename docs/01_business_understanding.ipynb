{
 "cells": [
  {
   "cell_type": "markdown",
   "metadata": {},
   "source": [
    "## CRISP-DM Phase 1. Business Understanding"
   ]
  },
  {
   "cell_type": "markdown",
   "metadata": {},
   "source": [
    "**Objective**:\n",
    "\n",
    "- The aim of this project is to tackle a  a multivariate time series classification problem with machine learning, to determine whether a company is financially distressed.\n",
    "\n",
    "\n",
    "**Background information provided by Kaggle**:  \n",
    "\n",
    "- The provided dataset deals with the financial distress prediction for a sample of companies.\n",
    "\n",
    "- First column: Company represents sample companies.\n",
    "\n",
    "- Second column: Time shows different time periods that data belongs to. Time series length varies between 1 to 14 for each company.\n",
    "\n",
    "- Third column: The target variable is denoted by \"Financial Distress\" if it is greater than -0.50 the company should be considered as healthy (0). Otherwise, it would be regarded as financially distressed (1).\n",
    "\n",
    "- Fourth column to the last column: The features denoted by x1 to x83, are some financial and non-financial characteristics of the sampled companies. These features belong to the previous time period, which should be used to predict whether the company will be financially distressed or not (classification). Feature x80 is a categorical variable.\n",
    "\n",
    "\n",
    "**Constraints**:\n",
    "\n",
    "- It should be noted that 30% of this data set should be randomly assigned as hold-out test set so the remaining 70% is used for feature selection and model selection i.e., train set.\n",
    "- Contrary to Cross-Sectional Data, Longitudinal Data has a time-component that implicitly orders each row. Therefore, it is not a good idea to use K-Fold cross validation to test model performance. A viable approach is to use Forward Chaining to preserve the data's temporal structure.\n",
    "\n",
    "\n",
    "**Success Criteria**:\n",
    "- This dataset is imbalanced (there are 136 financially distressed companies against 3546 healthy ones) and skewed, so f-score should be employed as a performance evaluation criterion, along with other classification metrics.\n"
   ]
  }
 ],
 "metadata": {
  "kernelspec": {
   "display_name": "optimization_forecasting_env",
   "language": "python",
   "name": "python3"
  },
  "language_info": {
   "codemirror_mode": {
    "name": "ipython",
    "version": 3
   },
   "file_extension": ".py",
   "mimetype": "text/x-python",
   "name": "python",
   "nbconvert_exporter": "python",
   "pygments_lexer": "ipython3",
   "version": "3.9.18"
  }
 },
 "nbformat": 4,
 "nbformat_minor": 2
}
